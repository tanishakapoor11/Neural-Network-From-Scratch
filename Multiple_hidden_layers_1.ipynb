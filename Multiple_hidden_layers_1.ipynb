{
 "cells": [
  {
   "cell_type": "code",
   "execution_count": 1,
   "id": "f4cc41b8",
   "metadata": {},
   "outputs": [],
   "source": [
    "import numpy as np"
   ]
  },
  {
   "cell_type": "code",
   "execution_count": 4,
   "id": "4b36b27b",
   "metadata": {},
   "outputs": [
    {
     "name": "stdout",
     "output_type": "stream",
     "text": [
      "(1000, 2)\n",
      "(1000, 2)\n"
     ]
    }
   ],
   "source": [
    "class1_data = np.loadtxt('nls_data/class1.txt', delimiter=',')\n",
    "class2_data = np.loadtxt('nls_data/class2.txt', delimiter=',')\n",
    "print(class1_data.shape)\n",
    "print(class2_data.shape)"
   ]
  },
  {
   "cell_type": "code",
   "execution_count": 5,
   "id": "fbe872a1",
   "metadata": {},
   "outputs": [],
   "source": [
    "class1_label = np.zeros((class1_data.shape[0], 1))  #Label for class1 is 0\n",
    "class2_label = np.ones((class2_data.shape[0], 1))   #Label for class2 is 1"
   ]
  },
  {
   "cell_type": "code",
   "execution_count": 17,
   "id": "438354c7",
   "metadata": {},
   "outputs": [
    {
     "data": {
      "text/plain": [
       "array([[0.],\n",
       "       [0.],\n",
       "       [0.],\n",
       "       ...,\n",
       "       [1.],\n",
       "       [1.],\n",
       "       [1.]])"
      ]
     },
     "execution_count": 17,
     "metadata": {},
     "output_type": "execute_result"
    }
   ],
   "source": [
    "# Combining data and labels\n",
    "data = np.concatenate((class1_data, class2_data), axis=0)\n",
    "labels = np.concatenate((class1_label, class2_label), axis=0)\n",
    "labels"
   ]
  },
  {
   "cell_type": "code",
   "execution_count": 18,
   "id": "54b5be1c",
   "metadata": {},
   "outputs": [
    {
     "name": "stdout",
     "output_type": "stream",
     "text": [
      "(2000, 2)\n",
      "(2000, 1)\n"
     ]
    },
    {
     "data": {
      "text/plain": [
       "array([[0.],\n",
       "       [1.],\n",
       "       [0.],\n",
       "       ...,\n",
       "       [0.],\n",
       "       [1.],\n",
       "       [1.]])"
      ]
     },
     "execution_count": 18,
     "metadata": {},
     "output_type": "execute_result"
    }
   ],
   "source": [
    "# Shuffling the data\n",
    "shuffled_indices = np.random.permutation(data.shape[0])\n",
    "data = data[shuffled_indices]\n",
    "labels = labels[shuffled_indices]\n",
    "data\n",
    "labels\n",
    "print(data.shape)\n",
    "print(labels.shape)\n",
    "labels"
   ]
  },
  {
   "cell_type": "code",
   "execution_count": 8,
   "id": "7f3493dc",
   "metadata": {},
   "outputs": [
    {
     "data": {
      "text/plain": [
       "array([[-1.038074  ,  0.94500282],\n",
       "       [ 1.16278309,  1.34692547],\n",
       "       [-0.82450117, -1.17371062],\n",
       "       ...,\n",
       "       [-0.67926653, -1.54797119],\n",
       "       [-0.71872051, -1.30880331],\n",
       "       [ 0.81807871,  1.02597091]])"
      ]
     },
     "execution_count": 8,
     "metadata": {},
     "output_type": "execute_result"
    }
   ],
   "source": [
    "normalized_data = (data - np.mean(data, axis=0)) / np.std(data, axis=0)\n",
    "data = normalized_data\n",
    "data"
   ]
  },
  {
   "cell_type": "code",
   "execution_count": 9,
   "id": "3c2992a7",
   "metadata": {},
   "outputs": [
    {
     "data": {
      "image/png": "[encoded data removed]",
      "text/plain": [
       "<Figure size 432x288 with 1 Axes>"
      ]
     },
     "metadata": {
      "needs_background": "light"
     },
     "output_type": "display_data"
    }
   ],
   "source": [
    "import matplotlib.pyplot as plt\n",
    "\n",
    "f1 = [d[0] for d in data]\n",
    "f2 = [d[1] for d in data]\n",
    "\n",
    "\n",
    "plt.scatter(f1,f2, c=labels)\n",
    "plt.xlabel(\"Feature 1\")\n",
    "plt.ylabel(\"Feature 2\")\n",
    "plt.title(\"Scatter Plot\")\n",
    "\n",
    "plt.show()"
   ]
  },
  {
   "cell_type": "code",
   "execution_count": 20,
   "id": "cebfc002",
   "metadata": {},
   "outputs": [
    {
     "name": "stdout",
     "output_type": "stream",
     "text": [
      "(1600, 2)\n",
      "(400, 2)\n",
      "(1600, 1)\n",
      "(400, 1)\n"
     ]
    }
   ],
   "source": [
    "#Splitting data for training and testing\n",
    "\n",
    "train_ratio = 0.8  \n",
    "train_size = int(data.shape[0] * train_ratio)\n",
    "train_data = data[:train_size]\n",
    "train_labels = labels[:train_size]\n",
    "test_data = data[train_size:]\n",
    "test_labels = labels[train_size:]\n",
    "\n",
    "print(train_data.shape)\n",
    "print(test_data.shape)\n",
    "print(train_labels.shape)\n",
    "print(test_labels.shape)"
   ]
  },
  {
   "cell_type": "code",
   "execution_count": 54,
   "id": "9976d4e2",
   "metadata": {},
   "outputs": [],
   "source": [
    "# Architecture of the neural network\n",
    "input_size = data.shape[1]       # Number of features\n",
    "hidden_sizes = [384, 512]        # Two hidden layers with 256 and 512 units respectively\n",
    "output_size = 2                  # Two classes"
   ]
  },
  {
   "cell_type": "code",
   "execution_count": 61,
   "id": "4115b891",
   "metadata": {},
   "outputs": [],
   "source": [
    "# Initializing the weights and biases\n",
    "np.random.seed(42)\n",
    "wh1 = np.random.randn(input_size, hidden_sizes[0]) * 0.01\n",
    "bh1 = np.zeros((1, hidden_sizes[0]))\n",
    "wh2 = np.random.randn(hidden_sizes[0], hidden_sizes[1]) * 0.01\n",
    "bh2 = np.zeros((1, hidden_sizes[1]))\n",
    "wo = np.random.randn(hidden_sizes[1], output_size) * 0.01\n",
    "bo = np.zeros((1, output_size))"
   ]
  },
  {
   "cell_type": "code",
   "execution_count": 62,
   "id": "6e854c4d",
   "metadata": {},
   "outputs": [],
   "source": [
    "def sigmoid(x):\n",
    "    return 1 / (1 + np.exp(-x))\n",
    "\n",
    "def sigmoid_derivative(x):\n",
    "    return sigmoid(x) * (1 - sigmoid(x))\n"
   ]
  },
  {
   "cell_type": "code",
   "execution_count": 64,
   "id": "36ac9a0d",
   "metadata": {},
   "outputs": [],
   "source": [
    "# Model Training\n",
    "epochs = 200\n",
    "learning_rate = 0.0001\n",
    "losses = []\n",
    "\n",
    "for epoch in range(epochs):\n",
    "    # Forward Computation\n",
    "    hidden_layer1_activation = np.dot(train_data, wh1) + bh1\n",
    "    hidden_layer1_output = sigmoid(hidden_layer1_activation)\n",
    "    hidden_layer2_activation = np.dot(hidden_layer1_output, wh2) + bh2\n",
    "    hidden_layer2_output = sigmoid(hidden_layer2_activation)\n",
    "    output_layer_activation = np.dot(hidden_layer2_output, wo) + bo\n",
    "    predicted_labels = sigmoid(output_layer_activation)\n",
    "    \n",
    "    # Loss Function\n",
    "    loss = np.mean(np.square(predicted_labels - train_labels))\n",
    "    losses.append(loss)\n",
    "    \n",
    "    # Backpropagation\n",
    "    error = train_labels - predicted_labels\n",
    "    d_predicted_labels = error * sigmoid_derivative(predicted_labels)\n",
    "    error_hidden2 = d_predicted_labels.dot(wo.T)\n",
    "    d_hidden_layer2 = error_hidden2 * sigmoid_derivative(hidden_layer2_output)\n",
    "    error_hidden1 = d_hidden_layer2.dot(wh2.T)\n",
    "    d_hidden_layer1 = error_hidden1 * sigmoid_derivative(hidden_layer1_output)\n",
    "    \n",
    "    # Updating the weights and biases\n",
    "    wo += hidden_layer2_output.T.dot(d_predicted_labels) * learning_rate\n",
    "    bo += np.sum(d_predicted_labels, axis=0, keepdims=True) * learning_rate\n",
    "    wh2 += hidden_layer1_output.T.dot(d_hidden_layer2) * learning_rate\n",
    "    bh2 += np.sum(d_hidden_layer2, axis=0, keepdims=True) * learning_rate\n",
    "    wh1 += train_data.T.dot(d_hidden_layer1) * learning_rate\n",
    "    bh1 += np.sum(d_hidden_layer1, axis=0, keepdims=True) * learning_rate"
   ]
  },
  {
   "cell_type": "code",
   "execution_count": 65,
   "id": "2f1b8c41",
   "metadata": {},
   "outputs": [
    {
     "name": "stdout",
     "output_type": "stream",
     "text": [
      "Loss: [0.2427035438894992, 0.2425682835403764, 0.24243001982534843, 0.24228867400488102, 0.24214416506988662, 0.2419964096746017, 0.24184532206771128, 0.24169081402170398, 0.2415327947604451, 0.24137117088495663, 0.24120584629739844, 0.24103672212324947, 0.24086369663169144, 0.24068666515420453, 0.2405055200013895, 0.2403201503780388, 0.24013044229648484, 0.23993627848826427, 0.23973753831414416, 0.23953409767256761, 0.23932582890658616, 0.2391126007093598, 0.2388942780283177, 0.23867072196808745, 0.238441789692317, 0.23820733432452998, 0.23796720484817513, 0.23772124600604969, 0.23746929819929904, 0.23721119738622037, 0.23694677498112263, 0.23667585775352343, 0.23639826772799516, 0.23611382208500425, 0.23582233306312347, 0.23552360786303514, 0.23521744855378426, 0.2349036519817841, 0.234582009683124, 0.23425230779977987, 0.23391432700038067, 0.23356784240624287, 0.23321262352344405, 0.2328484341817741, 0.2324750324814682, 0.2320921707487017, 0.2316995955009013, 0.23129704742300966, 0.23088426135592485, 0.23046096629842525, 0.23002688542398453, 0.2295817361139777, 0.22912523000888094, 0.22865707307917094, 0.2281769657177392, 0.22768460285574435, 0.22717967410393952, 0.22666186392162538, 0.22613085181549286, 0.2255863125707348, 0.22502791651691748, 0.22445532983121375, 0.2238682148817041, 0.22326623061355322, 0.22264903298095814, 0.2220162754278504, 0.22136760942039735, 0.22070268503440524, 0.22002115160075914, 0.21932265841204596, 0.21860685549349504, 0.21787339444132278, 0.21712192933149335, 0.2163521177017846, 0.2155636216098884, 0.21475610877005885, 0.21392925377055558, 0.2130827393737954, 0.2122162579007309, 0.2113295127005011, 0.21042221970584898, 0.20949410907416494, 0.20854492691329013, 0.20757443709039167, 0.20658242312130362, 0.20556869013670792, 0.20453306692040393, 0.20347540801369313, 0.20239559587857808, 0.20129354311105388, 0.2001691946942617, 0.19902253027968672, 0.1978535664829294, 0.19666235917888172, 0.19544900577941335, 0.19421364747494774, 0.1929564714196105, 0.1916777128379977, 0.1903776570300795, 0.1890566412493625, 0.1877150564282313, 0.18635334872342355, 0.18497202085391115, 0.18357163320311506, 0.18215280465742403, 0.18071621315346215, 0.17926259590750426, 0.17779274930190772, 0.1763075284054441, 0.17480784610699523, 0.1732946718452323, 0.17176902992062015, 0.17023199738035646, 0.16868470147163322, 0.16712831666383746, 0.16556406124591638, 0.1639931935110298, 0.16241700754669167, 0.16083682865474216, 0.1592540084315606, 0.1576699195447897, 0.15608595024834293, 0.15450349868247631, 0.1529239670100773, 0.15134875544393872, 0.14977925622252697, 0.1482168475935378, 0.14666288786528844, 0.14511870958568635, 0.14358561390713062, 0.14206486519326436, 0.14055768592005405, 0.1390652519193053, 0.13758868800753749, 0.13612906403725905, 0.1346873914012544, 0.1332646200136704, 0.13186163578463608, 0.1304792585980293, 0.12911824079497783, 0.12777926615889998, 0.1264629493914871, 0.12516983606312837, 0.12390040301597142, 0.12265505919318277, 0.1214341468640665, 0.12023794321155627, 0.11906666224621597, 0.11792045700926358, 0.11679942202623675, 0.11570359597270546, 0.11463296451384736, 0.11358746328067265, 0.11256698094713778, 0.11157136237425096, 0.11060041178946639, 0.10965389597211055, 0.10873154741821255, 0.10783306746085186, 0.10695812932492683, 0.10610638109803293, 0.10527744860187063, 0.10447093815124024, 0.10368643919018919, 0.10292352679723286, 0.10218176405375294, 0.10146070427167238, 0.10075989307831001, 0.10007887035792429, 0.09941717205086854, 0.09877433181250271, 0.09814988253504894, 0.09754335773644822, 0.09695429282098461, 0.09638222621700794, 0.0958267003975125, 0.09528726278963763, 0.09476346657935775, 0.09425487141773267, 0.09376104403511637, 0.09328155876967444, 0.09281599801645711, 0.09236395260312069, 0.09192502209819764, 0.09149881505759123, 0.09108494921472289, 0.0906830516194952, 0.09029275873095752, 0.08991371646827685, 0.08954558022433323, 0.0891880148459728, 0.08884069458467347, 0.0885033030211039, 0.08817553296679201, 0.08785708634586488, 0.08754767405957747, 0.08724701583611669, 0.08695484006794754, 0.08667088363876128, 0.0863948917418924]\n",
      "Predicted labels for train data: [0 0 1 ... 0 1 1]\n",
      "Actual labels: [0. 1. 0. ... 0. 0. 1.]\n",
      "Accuracy: 90.1875 %\n"
     ]
    }
   ],
   "source": [
    "# Predicting on train data\n",
    "hidden_layer_activation1_train = np.dot(train_data, wh1) + bh1\n",
    "hidden_layer_output1_train = sigmoid(hidden_layer_activation1_train)\n",
    "\n",
    "hidden_layer_activation2_train = np.dot(hidden_layer_output1_train, wh2) + bh2\n",
    "hidden_layer_output2_train = sigmoid(hidden_layer_activation2_train)\n",
    "\n",
    "output_layer_activation_train = np.dot(hidden_layer_output2_train, wo) + bo\n",
    "predicted_labels_train = sigmoid(output_layer_activation_train)\n",
    "predicted_labels_train = np.round(predicted_labels_train).astype(int)\n",
    "\n",
    "print(\"Loss:\", losses)\n",
    "print(\"Predicted labels for train data:\", predicted_labels_train.flatten())\n",
    "print(\"Actual labels:\", train_labels.flatten())\n",
    "\n",
    "# Accuracy\n",
    "accuracy = (predicted_labels_train == train_labels).mean() * 100\n",
    "print(\"Accuracy:\", accuracy, \"%\")"
   ]
  },
  {
   "cell_type": "code",
   "execution_count": 66,
   "id": "c8024ded",
   "metadata": {},
   "outputs": [
    {
     "name": "stdout",
     "output_type": "stream",
     "text": [
      "Loss: [0.2427035438894992, 0.2425682835403764, 0.24243001982534843, 0.24228867400488102, 0.24214416506988662, 0.2419964096746017, 0.24184532206771128, 0.24169081402170398, 0.2415327947604451, 0.24137117088495663, 0.24120584629739844, 0.24103672212324947, 0.24086369663169144, 0.24068666515420453, 0.2405055200013895, 0.2403201503780388, 0.24013044229648484, 0.23993627848826427, 0.23973753831414416, 0.23953409767256761, 0.23932582890658616, 0.2391126007093598, 0.2388942780283177, 0.23867072196808745, 0.238441789692317, 0.23820733432452998, 0.23796720484817513, 0.23772124600604969, 0.23746929819929904, 0.23721119738622037, 0.23694677498112263, 0.23667585775352343, 0.23639826772799516, 0.23611382208500425, 0.23582233306312347, 0.23552360786303514, 0.23521744855378426, 0.2349036519817841, 0.234582009683124, 0.23425230779977987, 0.23391432700038067, 0.23356784240624287, 0.23321262352344405, 0.2328484341817741, 0.2324750324814682, 0.2320921707487017, 0.2316995955009013, 0.23129704742300966, 0.23088426135592485, 0.23046096629842525, 0.23002688542398453, 0.2295817361139777, 0.22912523000888094, 0.22865707307917094, 0.2281769657177392, 0.22768460285574435, 0.22717967410393952, 0.22666186392162538, 0.22613085181549286, 0.2255863125707348, 0.22502791651691748, 0.22445532983121375, 0.2238682148817041, 0.22326623061355322, 0.22264903298095814, 0.2220162754278504, 0.22136760942039735, 0.22070268503440524, 0.22002115160075914, 0.21932265841204596, 0.21860685549349504, 0.21787339444132278, 0.21712192933149335, 0.2163521177017846, 0.2155636216098884, 0.21475610877005885, 0.21392925377055558, 0.2130827393737954, 0.2122162579007309, 0.2113295127005011, 0.21042221970584898, 0.20949410907416494, 0.20854492691329013, 0.20757443709039167, 0.20658242312130362, 0.20556869013670792, 0.20453306692040393, 0.20347540801369313, 0.20239559587857808, 0.20129354311105388, 0.2001691946942617, 0.19902253027968672, 0.1978535664829294, 0.19666235917888172, 0.19544900577941335, 0.19421364747494774, 0.1929564714196105, 0.1916777128379977, 0.1903776570300795, 0.1890566412493625, 0.1877150564282313, 0.18635334872342355, 0.18497202085391115, 0.18357163320311506, 0.18215280465742403, 0.18071621315346215, 0.17926259590750426, 0.17779274930190772, 0.1763075284054441, 0.17480784610699523, 0.1732946718452323, 0.17176902992062015, 0.17023199738035646, 0.16868470147163322, 0.16712831666383746, 0.16556406124591638, 0.1639931935110298, 0.16241700754669167, 0.16083682865474216, 0.1592540084315606, 0.1576699195447897, 0.15608595024834293, 0.15450349868247631, 0.1529239670100773, 0.15134875544393872, 0.14977925622252697, 0.1482168475935378, 0.14666288786528844, 0.14511870958568635, 0.14358561390713062, 0.14206486519326436, 0.14055768592005405, 0.1390652519193053, 0.13758868800753749, 0.13612906403725905, 0.1346873914012544, 0.1332646200136704, 0.13186163578463608, 0.1304792585980293, 0.12911824079497783, 0.12777926615889998, 0.1264629493914871, 0.12516983606312837, 0.12390040301597142, 0.12265505919318277, 0.1214341468640665, 0.12023794321155627, 0.11906666224621597, 0.11792045700926358, 0.11679942202623675, 0.11570359597270546, 0.11463296451384736, 0.11358746328067265, 0.11256698094713778, 0.11157136237425096, 0.11060041178946639, 0.10965389597211055, 0.10873154741821255, 0.10783306746085186, 0.10695812932492683, 0.10610638109803293, 0.10527744860187063, 0.10447093815124024, 0.10368643919018919, 0.10292352679723286, 0.10218176405375294, 0.10146070427167238, 0.10075989307831001, 0.10007887035792429, 0.09941717205086854, 0.09877433181250271, 0.09814988253504894, 0.09754335773644822, 0.09695429282098461, 0.09638222621700794, 0.0958267003975125, 0.09528726278963763, 0.09476346657935775, 0.09425487141773267, 0.09376104403511637, 0.09328155876967444, 0.09281599801645711, 0.09236395260312069, 0.09192502209819764, 0.09149881505759123, 0.09108494921472289, 0.0906830516194952, 0.09029275873095752, 0.08991371646827685, 0.08954558022433323, 0.0891880148459728, 0.08884069458467347, 0.0885033030211039, 0.08817553296679201, 0.08785708634586488, 0.08754767405957747, 0.08724701583611669, 0.08695484006794754, 0.08667088363876128, 0.0863948917418924]\n",
      "Predicted labels for test data: [1 1 1 1 0 0 0 0 0 0 0 0 1 1 0 0 1 1 1 1 0 0 1 1 0 0 1 1 1 1 1 1 1 1 1 1 1\n",
      " 1 1 1 1 1 0 0 1 1 1 1 0 0 1 1 1 1 1 1 1 1 1 1 1 1 1 1 1 1 1 1 1 1 1 1 0 0\n",
      " 1 1 1 1 1 1 1 1 0 0 0 0 0 0 0 0 1 1 1 1 1 1 1 1 0 0 0 0 0 0 0 0 0 0 1 1 1\n",
      " 1 0 0 0 0 1 1 0 0 0 0 1 1 1 1 1 1 1 1 1 1 0 0 0 0 0 0 0 0 1 1 1 1 1 1 1 1\n",
      " 0 0 1 1 1 1 0 0 1 1 0 0 1 1 1 1 1 1 0 0 0 0 1 1 1 1 1 1 0 0 1 1 0 0 1 1 1\n",
      " 1 0 0 1 1 0 0 1 1 1 1 1 1 1 1 0 0 1 1 1 1 1 1 1 1 1 1 1 1 1 1 0 0 1 1 1 1\n",
      " 1 1 0 0 1 1 0 0 1 1 0 0 0 0 0 0 1 1 1 1 1 1 0 0 1 1 1 1 1 1 1 1 1 1 1 1 1\n",
      " 1 1 1 1 1 0 0 0 0 0 0 1 1 1 1 0 0 1 1 1 1 1 1 1 1 1 1 0 0 0 0 0 0 0 0 0 0\n",
      " 0 0 1 1 1 1 1 1 0 0 0 0 0 0 0 0 0 0 1 1 0 0 1 1 0 0 0 0 0 0 0 0 1 1 0 0 1\n",
      " 1 0 0 0 0 1 1 0 0 1 1 1 1 0 0 1 1 0 0 0 0 1 1 1 1 1 1 1 1 0 0 1 1 1 1 0 0\n",
      " 0 0 0 0 0 0 1 1 1 1 1 1 0 0 1 1 0 0 1 1 1 1 1 1 1 1 1 1 1 1 1 1 0 0 1 1 1\n",
      " 1 0 0 1 1 1 1 1 1 0 0 0 0 1 1 0 0 1 1 1 1 1 1 1 1 1 1 0 0 0 0 1 1 0 0 1 1\n",
      " 0 0 0 0 0 0 0 0 0 0 1 1 1 1 1 1 0 0 1 1 1 1 0 0 1 1 1 1 0 0 0 0 1 1 1 1 1\n",
      " 1 0 0 1 1 0 0 0 0 0 0 0 0 1 1 1 1 0 0 0 0 1 1 1 1 1 1 0 0 0 0 1 1 0 0 0 0\n",
      " 0 0 1 1 1 1 1 1 0 0 1 1 0 0 1 1 0 0 1 1 1 1 0 0 1 1 1 1 1 1 1 1 0 0 0 0 1\n",
      " 1 0 0 0 0 1 1 0 0 1 1 0 0 0 0 0 0 1 1 1 1 0 0 0 0 0 0 1 1 0 0 0 0 1 1 0 0\n",
      " 0 0 1 1 1 1 1 1 1 1 0 0 0 0 0 0 0 0 0 0 0 0 1 1 0 0 1 1 1 1 1 1 0 0 1 1 1\n",
      " 1 0 0 0 0 0 0 1 1 1 1 1 1 1 1 1 1 0 0 1 1 0 0 1 1 0 0 0 0 1 1 0 0 0 0 1 1\n",
      " 1 1 0 0 1 1 1 1 1 1 1 1 0 0 1 1 0 0 0 0 1 1 0 0 0 0 1 1 0 0 1 1 0 0 1 1 0\n",
      " 0 1 1 1 1 1 1 1 1 1 1 0 0 0 0 0 0 1 1 0 0 0 0 1 1 0 0 0 0 0 0 0 0 1 1 1 1\n",
      " 1 1 1 1 1 1 0 0 0 0 1 1 1 1 1 1 0 0 0 0 0 0 0 0 1 1 0 0 0 0 1 1 1 1 0 0 1\n",
      " 1 0 0 0 0 0 0 0 0 1 1 0 0 1 1 1 1 1 1 0 0 1 1]\n",
      "Actual labels: [1. 1. 0. 0. 0. 0. 1. 0. 1. 1. 0. 0. 0. 1. 1. 1. 0. 1. 0. 1. 1. 0. 0. 1.\n",
      " 0. 1. 1. 1. 1. 1. 1. 1. 1. 1. 1. 0. 0. 1. 1. 1. 1. 0. 0. 0. 0. 1. 0. 1.\n",
      " 1. 0. 0. 0. 0. 0. 1. 1. 0. 0. 1. 0. 0. 1. 1. 0. 0. 1. 0. 0. 0. 0. 1. 1.\n",
      " 1. 1. 0. 1. 1. 0. 1. 0. 1. 1. 1. 0. 0. 1. 1. 1. 0. 1. 0. 1. 0. 0. 1. 0.\n",
      " 1. 1. 1. 0. 0. 1. 1. 1. 1. 1. 1. 1. 0. 1. 1. 1. 0. 1. 0. 1. 0. 0. 0. 0.\n",
      " 1. 1. 0. 1. 1. 1. 1. 1. 1. 1. 1. 1. 0. 0. 0. 1. 1. 0. 1. 1. 1. 1. 1. 0.\n",
      " 0. 1. 0. 0. 0. 1. 1. 1. 0. 0. 0. 1. 1. 1. 0. 0. 0. 0. 0. 0. 1. 0. 1. 0.\n",
      " 0. 1. 1. 0. 0. 0. 1. 0. 0. 1. 1. 1. 1. 0. 1. 1. 0. 0. 0. 1. 1. 1. 1. 0.\n",
      " 1. 0. 1. 0. 1. 1. 1. 1. 1. 0. 1. 1. 0. 1. 1. 1. 0. 0. 1. 0. 1. 1. 1. 1.\n",
      " 1. 0. 0. 1. 0. 1. 0. 0. 0. 0. 0. 0. 0. 1. 0. 1. 0. 0. 1. 1. 0. 0. 0. 1.\n",
      " 1. 0. 1. 0. 0. 0. 0. 1. 0. 0. 0. 1. 1. 1. 0. 0. 1. 0. 0. 0. 1. 1. 1. 0.\n",
      " 0. 0. 1. 0. 1. 1. 0. 1. 1. 1. 1. 0. 0. 1. 0. 0. 1. 1. 0. 0. 0. 0. 1. 1.\n",
      " 0. 0. 0. 0. 0. 0. 0. 0. 0. 1. 1. 1. 0. 0. 0. 0. 0. 1. 0. 1. 0. 1. 1. 1.\n",
      " 0. 0. 1. 0. 0. 0. 1. 1. 1. 1. 1. 0. 1. 0. 1. 0. 0. 1. 0. 0. 1. 1. 0. 1.\n",
      " 1. 1. 1. 0. 1. 0. 1. 1. 0. 0. 1. 0. 1. 0. 1. 0. 0. 1. 1. 1. 0. 0. 0. 0.\n",
      " 1. 0. 0. 1. 0. 0. 0. 0. 1. 1. 1. 1. 1. 0. 0. 1. 0. 1. 0. 0. 0. 0. 1. 0.\n",
      " 0. 1. 1. 0. 0. 0. 0. 0. 0. 1. 0. 1. 1. 0. 1. 1.]\n",
      "Accuracy: 90.0 %\n"
     ]
    }
   ],
   "source": [
    "# Model Testing\n",
    "hidden_layer_activation1_test = np.dot(test_data, wh1) + bh1\n",
    "hidden_layer_output1_test = sigmoid(hidden_layer_activation1_test)\n",
    "\n",
    "hidden_layer_activation2_test = np.dot(hidden_layer_output1_test, wh2) + bh2\n",
    "hidden_layer_output2_test = sigmoid(hidden_layer_activation2_test)\n",
    "\n",
    "output_layer_activation_test = np.dot(hidden_layer_output2_test, wo) + bo\n",
    "predicted_labels_test = sigmoid(output_layer_activation_test)\n",
    "predicted_labels_test = np.round(predicted_labels_test).astype(int)\n",
    "\n",
    "print(\"Loss:\", losses)\n",
    "print(\"Predicted labels for test data:\", predicted_labels_test.flatten())\n",
    "print(\"Actual labels:\", test_labels.flatten())\n",
    "\n",
    "# Accuracy\n",
    "accuracy = (predicted_labels_test == test_labels).mean() * 100\n",
    "print(\"Accuracy:\", accuracy, \"%\")"
   ]
  },
  {
   "cell_type": "code",
   "execution_count": null,
   "id": "1b85c573",
   "metadata": {},
   "outputs": [],
   "source": []
  }
 ],
 "metadata": {
  "kernelspec": {
   "display_name": "Python 3 (ipykernel)",
   "language": "python",
   "name": "python3"
  },
  "language_info": {
   "codemirror_mode": {
    "name": "ipython",
    "version": 3
   },
   "file_extension": ".py",
   "mimetype": "text/x-python",
   "name": "python",
   "nbconvert_exporter": "python",
   "pygments_lexer": "ipython3",
   "version": "3.9.12"
  }
 },
 "nbformat": 4,
 "nbformat_minor": 5
}
